{
  "nbformat": 4,
  "nbformat_minor": 0,
  "metadata": {
    "colab": {
      "provenance": [],
      "authorship_tag": "ABX9TyPKYyvphb6MCq0QVlHwzQE2",
      "include_colab_link": true
    },
    "kernelspec": {
      "name": "python3",
      "display_name": "Python 3"
    },
    "language_info": {
      "name": "python"
    }
  },
  "cells": [
    {
      "cell_type": "markdown",
      "metadata": {
        "id": "view-in-github",
        "colab_type": "text"
      },
      "source": [
        "<a href=\"https://colab.research.google.com/github/munshidds/weather-API/blob/main/weather_API.ipynb\" target=\"_parent\"><img src=\"https://colab.research.google.com/assets/colab-badge.svg\" alt=\"Open In Colab\"/></a>"
      ]
    },
    {
      "cell_type": "code",
      "execution_count": null,
      "metadata": {
        "id": "aJh2cLCe6hzh"
      },
      "outputs": [],
      "source": [
        "import datetime as dt\n",
        "import requests"
      ]
    },
    {
      "cell_type": "code",
      "source": [
        "BASE_URL = \"http://api.openweathermap.org/data/2.5/weather?\"\n",
        "API_KEY = '1f5da08cb47d3cc87ac91f78a97f435a'\n",
        "CITY = 'calicut'\n",
        "url =BASE_URL + \"appid=\" + \"1f5da08cb47d3cc87ac91f78a97f435a\" + \"&q=\" +  CITY\n",
        "response =requests.get(url).json()\n",
        "\n",
        "for i,j in response.items():\n",
        "  print(i,j)"
      ],
      "metadata": {
        "colab": {
          "base_uri": "https://localhost:8080/"
        },
        "id": "BAchfxww6tRD",
        "outputId": "f9ded5fb-baf9-477c-a26d-f4aa6f2dca0d"
      },
      "execution_count": null,
      "outputs": [
        {
          "output_type": "stream",
          "name": "stdout",
          "text": [
            "coord {'lon': 75.7667, 'lat': 11.25}\n",
            "weather [{'id': 804, 'main': 'Clouds', 'description': 'overcast clouds', 'icon': '04d'}]\n",
            "base stations\n",
            "main {'temp': 300.8, 'feels_like': 303.63, 'temp_min': 300.8, 'temp_max': 300.8, 'pressure': 1009, 'humidity': 74, 'sea_level': 1009, 'grnd_level': 1009}\n",
            "visibility 10000\n",
            "wind {'speed': 0.64, 'deg': 143, 'gust': 0.87}\n",
            "clouds {'all': 94}\n",
            "dt 1700722895\n",
            "sys {'type': 1, 'id': 9209, 'country': 'IN', 'sunrise': 1700700993, 'sunset': 1700742609}\n",
            "timezone 19800\n",
            "id 1265873\n",
            "name Kozhikode\n",
            "cod 200\n"
          ]
        }
      ]
    },
    {
      "cell_type": "code",
      "source": [
        "temperature_kelvin = response['main']['temp']\n",
        "\n",
        "# Convert Kelvin to Celsius\n",
        "temperature_celsius = temperature_kelvin - 273.15\n",
        "\n",
        "print(f'Temperature in Celsius: {temperature_celsius:.2f}°C')"
      ],
      "metadata": {
        "colab": {
          "base_uri": "https://localhost:8080/"
        },
        "id": "BscZ4n758gXH",
        "outputId": "9db53e42-d4b7-49be-be84-9bd5d3cad319"
      },
      "execution_count": null,
      "outputs": [
        {
          "output_type": "stream",
          "name": "stdout",
          "text": [
            "Temperature in Celsius: 27.65°C\n"
          ]
        }
      ]
    },
    {
      "cell_type": "code",
      "source": [],
      "metadata": {
        "id": "MSSFXkLK_euS"
      },
      "execution_count": null,
      "outputs": []
    }
  ]
}